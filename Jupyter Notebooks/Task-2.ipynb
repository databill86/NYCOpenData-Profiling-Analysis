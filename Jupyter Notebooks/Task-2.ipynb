#This function validates the different business types encountered in the NYC OPEN data.
#We define a dictionary of the different business types.
#We use a regex function to evaluate if the string passed in the function is present in the dictionary.
def ValidateBusiness(s):
    if type(s)!=str or s==None:
        return 0
    
    
    business_suffix = ['inc','inc.','llc','l.l.c.','p.c.','pc','lp','l.p.','corp','corp.','corporation','company','co.','co','ltd','ltd.','capital','holdings','services']
    business=0
    for suff in business_suffix:
        ratio=fuzz.ratio(suff, s.lower())
        if ratio>=90:
            business=1
    if re.search(r"^(?!\s)(?!.*\s$)(?=.*[a-zA-Z0-9])[a-zA-Z0-9 '~?!]{2,}$", s):
        business=1
    return business